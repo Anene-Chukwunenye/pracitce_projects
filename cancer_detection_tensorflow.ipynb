{
 "cells": [
  {
   "attachments": {},
   "cell_type": "markdown",
   "metadata": {},
   "source": [
    "# This project deals with the detection of cancer. "
   ]
  },
  {
   "cell_type": "code",
   "execution_count": 328,
   "metadata": {},
   "outputs": [],
   "source": [
    "import pandas as pd\n",
    "import pylab as pl\n",
    "import numpy as np\n",
    "import scipy.optimize as opt\n",
    "from sklearn import preprocessing\n",
    "from sklearn.model_selection import train_test_split\n",
    "%matplotlib inline \n",
    "import matplotlib.pyplot as plt"
   ]
  },
  {
   "cell_type": "code",
   "execution_count": 372,
   "metadata": {},
   "outputs": [],
   "source": [
    "df=pd.read_csv(\"https://cf-courses-data.s3.us.cloud-object-storage.appdomain.cloud/IBMDeveloperSkillsNetwork-ML0101EN-SkillsNetwork/labs/Module%203/data/cell_samples.csv\")"
   ]
  },
  {
   "cell_type": "code",
   "execution_count": 373,
   "metadata": {},
   "outputs": [
    {
     "data": {
      "text/html": [
       "<div>\n",
       "<style scoped>\n",
       "    .dataframe tbody tr th:only-of-type {\n",
       "        vertical-align: middle;\n",
       "    }\n",
       "\n",
       "    .dataframe tbody tr th {\n",
       "        vertical-align: top;\n",
       "    }\n",
       "\n",
       "    .dataframe thead th {\n",
       "        text-align: right;\n",
       "    }\n",
       "</style>\n",
       "<table border=\"1\" class=\"dataframe\">\n",
       "  <thead>\n",
       "    <tr style=\"text-align: right;\">\n",
       "      <th></th>\n",
       "      <th>ID</th>\n",
       "      <th>Clump</th>\n",
       "      <th>UnifSize</th>\n",
       "      <th>UnifShape</th>\n",
       "      <th>MargAdh</th>\n",
       "      <th>SingEpiSize</th>\n",
       "      <th>BareNuc</th>\n",
       "      <th>BlandChrom</th>\n",
       "      <th>NormNucl</th>\n",
       "      <th>Mit</th>\n",
       "      <th>Class</th>\n",
       "    </tr>\n",
       "  </thead>\n",
       "  <tbody>\n",
       "    <tr>\n",
       "      <th>0</th>\n",
       "      <td>1000025</td>\n",
       "      <td>5</td>\n",
       "      <td>1</td>\n",
       "      <td>1</td>\n",
       "      <td>1</td>\n",
       "      <td>2</td>\n",
       "      <td>1</td>\n",
       "      <td>3</td>\n",
       "      <td>1</td>\n",
       "      <td>1</td>\n",
       "      <td>2</td>\n",
       "    </tr>\n",
       "    <tr>\n",
       "      <th>1</th>\n",
       "      <td>1002945</td>\n",
       "      <td>5</td>\n",
       "      <td>4</td>\n",
       "      <td>4</td>\n",
       "      <td>5</td>\n",
       "      <td>7</td>\n",
       "      <td>10</td>\n",
       "      <td>3</td>\n",
       "      <td>2</td>\n",
       "      <td>1</td>\n",
       "      <td>2</td>\n",
       "    </tr>\n",
       "    <tr>\n",
       "      <th>2</th>\n",
       "      <td>1015425</td>\n",
       "      <td>3</td>\n",
       "      <td>1</td>\n",
       "      <td>1</td>\n",
       "      <td>1</td>\n",
       "      <td>2</td>\n",
       "      <td>2</td>\n",
       "      <td>3</td>\n",
       "      <td>1</td>\n",
       "      <td>1</td>\n",
       "      <td>2</td>\n",
       "    </tr>\n",
       "    <tr>\n",
       "      <th>3</th>\n",
       "      <td>1016277</td>\n",
       "      <td>6</td>\n",
       "      <td>8</td>\n",
       "      <td>8</td>\n",
       "      <td>1</td>\n",
       "      <td>3</td>\n",
       "      <td>4</td>\n",
       "      <td>3</td>\n",
       "      <td>7</td>\n",
       "      <td>1</td>\n",
       "      <td>2</td>\n",
       "    </tr>\n",
       "    <tr>\n",
       "      <th>4</th>\n",
       "      <td>1017023</td>\n",
       "      <td>4</td>\n",
       "      <td>1</td>\n",
       "      <td>1</td>\n",
       "      <td>3</td>\n",
       "      <td>2</td>\n",
       "      <td>1</td>\n",
       "      <td>3</td>\n",
       "      <td>1</td>\n",
       "      <td>1</td>\n",
       "      <td>2</td>\n",
       "    </tr>\n",
       "  </tbody>\n",
       "</table>\n",
       "</div>"
      ],
      "text/plain": [
       "        ID  Clump  UnifSize  UnifShape  MargAdh  SingEpiSize BareNuc  \\\n",
       "0  1000025      5         1          1        1            2       1   \n",
       "1  1002945      5         4          4        5            7      10   \n",
       "2  1015425      3         1          1        1            2       2   \n",
       "3  1016277      6         8          8        1            3       4   \n",
       "4  1017023      4         1          1        3            2       1   \n",
       "\n",
       "   BlandChrom  NormNucl  Mit  Class  \n",
       "0           3         1    1      2  \n",
       "1           3         2    1      2  \n",
       "2           3         1    1      2  \n",
       "3           3         7    1      2  \n",
       "4           3         1    1      2  "
      ]
     },
     "execution_count": 373,
     "metadata": {},
     "output_type": "execute_result"
    }
   ],
   "source": [
    "df.head()"
   ]
  },
  {
   "cell_type": "code",
   "execution_count": 331,
   "metadata": {},
   "outputs": [
    {
     "data": {
      "text/plain": [
       "(699, 11)"
      ]
     },
     "execution_count": 331,
     "metadata": {},
     "output_type": "execute_result"
    }
   ],
   "source": [
    "df.shape"
   ]
  },
  {
   "cell_type": "code",
   "execution_count": 332,
   "metadata": {},
   "outputs": [
    {
     "data": {
      "image/png": "[encoded data removed]",
      "text/plain": [
       "<Figure size 640x480 with 1 Axes>"
      ]
     },
     "metadata": {},
     "output_type": "display_data"
    }
   ],
   "source": [
    "ax = df[df['Class'] == 4][0:50].plot(kind='scatter', x='Clump', y='UnifSize', color='DarkBlue', label='malignant');\n",
    "df[df['Class'] == 2][0:50].plot(kind='scatter', x='Clump', y='UnifSize', color='Yellow', label='benign', ax=ax);\n",
    "plt.show()"
   ]
  },
  {
   "cell_type": "code",
   "execution_count": 333,
   "metadata": {},
   "outputs": [
    {
     "data": {
      "text/plain": [
       "ID              int64\n",
       "Clump           int64\n",
       "UnifSize        int64\n",
       "UnifShape       int64\n",
       "MargAdh         int64\n",
       "SingEpiSize     int64\n",
       "BareNuc        object\n",
       "BlandChrom      int64\n",
       "NormNucl        int64\n",
       "Mit             int64\n",
       "Class           int64\n",
       "dtype: object"
      ]
     },
     "execution_count": 333,
     "metadata": {},
     "output_type": "execute_result"
    }
   ],
   "source": [
    "df.dtypes"
   ]
  },
  {
   "cell_type": "code",
   "execution_count": 334,
   "metadata": {},
   "outputs": [
    {
     "data": {
      "text/plain": [
       "ID             int64\n",
       "Clump          int64\n",
       "UnifSize       int64\n",
       "UnifShape      int64\n",
       "MargAdh        int64\n",
       "SingEpiSize    int64\n",
       "BareNuc        int32\n",
       "BlandChrom     int64\n",
       "NormNucl       int64\n",
       "Mit            int64\n",
       "Class          int64\n",
       "dtype: object"
      ]
     },
     "execution_count": 334,
     "metadata": {},
     "output_type": "execute_result"
    }
   ],
   "source": [
    "df = df[pd.to_numeric(df['BareNuc'], errors='coerce').notnull()]\n",
    "df['BareNuc'] = df['BareNuc'].astype('int')\n",
    "df.dtypes"
   ]
  },
  {
   "cell_type": "code",
   "execution_count": 335,
   "metadata": {},
   "outputs": [
    {
     "data": {
      "text/html": [
       "<div>\n",
       "<style scoped>\n",
       "    .dataframe tbody tr th:only-of-type {\n",
       "        vertical-align: middle;\n",
       "    }\n",
       "\n",
       "    .dataframe tbody tr th {\n",
       "        vertical-align: top;\n",
       "    }\n",
       "\n",
       "    .dataframe thead th {\n",
       "        text-align: right;\n",
       "    }\n",
       "</style>\n",
       "<table border=\"1\" class=\"dataframe\">\n",
       "  <thead>\n",
       "    <tr style=\"text-align: right;\">\n",
       "      <th></th>\n",
       "      <th>Clump</th>\n",
       "      <th>UnifSize</th>\n",
       "      <th>UnifShape</th>\n",
       "      <th>MargAdh</th>\n",
       "      <th>SingEpiSize</th>\n",
       "      <th>BareNuc</th>\n",
       "      <th>BlandChrom</th>\n",
       "      <th>NormNucl</th>\n",
       "      <th>Mit</th>\n",
       "    </tr>\n",
       "  </thead>\n",
       "  <tbody>\n",
       "    <tr>\n",
       "      <th>0</th>\n",
       "      <td>5</td>\n",
       "      <td>1</td>\n",
       "      <td>1</td>\n",
       "      <td>1</td>\n",
       "      <td>2</td>\n",
       "      <td>1</td>\n",
       "      <td>3</td>\n",
       "      <td>1</td>\n",
       "      <td>1</td>\n",
       "    </tr>\n",
       "    <tr>\n",
       "      <th>1</th>\n",
       "      <td>5</td>\n",
       "      <td>4</td>\n",
       "      <td>4</td>\n",
       "      <td>5</td>\n",
       "      <td>7</td>\n",
       "      <td>10</td>\n",
       "      <td>3</td>\n",
       "      <td>2</td>\n",
       "      <td>1</td>\n",
       "    </tr>\n",
       "    <tr>\n",
       "      <th>2</th>\n",
       "      <td>3</td>\n",
       "      <td>1</td>\n",
       "      <td>1</td>\n",
       "      <td>1</td>\n",
       "      <td>2</td>\n",
       "      <td>2</td>\n",
       "      <td>3</td>\n",
       "      <td>1</td>\n",
       "      <td>1</td>\n",
       "    </tr>\n",
       "    <tr>\n",
       "      <th>3</th>\n",
       "      <td>6</td>\n",
       "      <td>8</td>\n",
       "      <td>8</td>\n",
       "      <td>1</td>\n",
       "      <td>3</td>\n",
       "      <td>4</td>\n",
       "      <td>3</td>\n",
       "      <td>7</td>\n",
       "      <td>1</td>\n",
       "    </tr>\n",
       "    <tr>\n",
       "      <th>4</th>\n",
       "      <td>4</td>\n",
       "      <td>1</td>\n",
       "      <td>1</td>\n",
       "      <td>3</td>\n",
       "      <td>2</td>\n",
       "      <td>1</td>\n",
       "      <td>3</td>\n",
       "      <td>1</td>\n",
       "      <td>1</td>\n",
       "    </tr>\n",
       "  </tbody>\n",
       "</table>\n",
       "</div>"
      ],
      "text/plain": [
       "   Clump  UnifSize  UnifShape  MargAdh  SingEpiSize  BareNuc  BlandChrom  \\\n",
       "0      5         1          1        1            2        1           3   \n",
       "1      5         4          4        5            7       10           3   \n",
       "2      3         1          1        1            2        2           3   \n",
       "3      6         8          8        1            3        4           3   \n",
       "4      4         1          1        3            2        1           3   \n",
       "\n",
       "   NormNucl  Mit  \n",
       "0         1    1  \n",
       "1         2    1  \n",
       "2         1    1  \n",
       "3         7    1  \n",
       "4         1    1  "
      ]
     },
     "execution_count": 335,
     "metadata": {},
     "output_type": "execute_result"
    }
   ],
   "source": [
    "feature_df = df[['Clump', 'UnifSize', 'UnifShape', 'MargAdh', 'SingEpiSize', 'BareNuc', 'BlandChrom', 'NormNucl', 'Mit']]\n",
    "X = feature_df\n",
    "X[0:5]"
   ]
  },
  {
   "cell_type": "code",
   "execution_count": 336,
   "metadata": {},
   "outputs": [],
   "source": [
    "X= np.asarray(X)"
   ]
  },
  {
   "cell_type": "code",
   "execution_count": 337,
   "metadata": {},
   "outputs": [
    {
     "data": {
      "text/plain": [
       "array([[ 5,  1,  1,  1,  2,  1,  3,  1,  1],\n",
       "       [ 5,  4,  4,  5,  7, 10,  3,  2,  1],\n",
       "       [ 3,  1,  1,  1,  2,  2,  3,  1,  1],\n",
       "       [ 6,  8,  8,  1,  3,  4,  3,  7,  1],\n",
       "       [ 4,  1,  1,  3,  2,  1,  3,  1,  1]], dtype=int64)"
      ]
     },
     "execution_count": 337,
     "metadata": {},
     "output_type": "execute_result"
    }
   ],
   "source": [
    "X[0:5]"
   ]
  },
  {
   "cell_type": "code",
   "execution_count": 338,
   "metadata": {},
   "outputs": [
    {
     "data": {
      "text/plain": [
       "array([2, 2, 2, 2, 2])"
      ]
     },
     "execution_count": 338,
     "metadata": {},
     "output_type": "execute_result"
    }
   ],
   "source": [
    "df['Class'] = df['Class'].astype('int')\n",
    "y = np.asarray(df['Class'])\n",
    "y [0:5]"
   ]
  },
  {
   "cell_type": "code",
   "execution_count": 339,
   "metadata": {},
   "outputs": [
    {
     "name": "stdout",
     "output_type": "stream",
     "text": [
      "Train set: (546, 9) (546,)\n",
      "Test set: (137, 9) (137,)\n"
     ]
    }
   ],
   "source": [
    "X_train, X_test, y_train, y_test= train_test_split(X,y, test_size=0.2,random_state=4)\n",
    "print ('Train set:', X_train.shape,  y_train.shape)\n",
    "print ('Test set:', X_test.shape,  y_test.shape)"
   ]
  },
  {
   "attachments": {},
   "cell_type": "markdown",
   "metadata": {},
   "source": [
    "# Using a Tensorflow model"
   ]
  },
  {
   "cell_type": "code",
   "execution_count": 349,
   "metadata": {},
   "outputs": [],
   "source": [
    "from tensorflow.keras import Sequential\n",
    "from tensorflow.keras.layers import Dense, Dropout"
   ]
  },
  {
   "cell_type": "code",
   "execution_count": 350,
   "metadata": {},
   "outputs": [
    {
     "data": {
      "text/plain": [
       "(546, 9)"
      ]
     },
     "execution_count": 350,
     "metadata": {},
     "output_type": "execute_result"
    }
   ],
   "source": [
    "X_train.shape"
   ]
  },
  {
   "cell_type": "code",
   "execution_count": 351,
   "metadata": {},
   "outputs": [],
   "source": [
    "# create the model\n",
    "model=Sequential()\n",
    "model.add(Dense(64,activation='relu',input_shape=(X_train.shape[1],)))\n",
    "model.add(Dense(32,activation='relu'))\n",
    "model.add(Dense(16,activation='relu'))\n",
    "model.add(Dropout(0.4))\n",
    "model.add(Dense(1,activation='linear'))"
   ]
  },
  {
   "cell_type": "code",
   "execution_count": 352,
   "metadata": {},
   "outputs": [
    {
     "name": "stdout",
     "output_type": "stream",
     "text": [
      "Model: \"sequential_16\"\n",
      "_________________________________________________________________\n",
      " Layer (type)                Output Shape              Param #   \n",
      "=================================================================\n",
      " dense_59 (Dense)            (None, 64)                640       \n",
      "                                                                 \n",
      " dense_60 (Dense)            (None, 32)                2080      \n",
      "                                                                 \n",
      " dense_61 (Dense)            (None, 16)                528       \n",
      "                                                                 \n",
      " dropout_16 (Dropout)        (None, 16)                0         \n",
      "                                                                 \n",
      " dense_62 (Dense)            (None, 1)                 17        \n",
      "                                                                 \n",
      "=================================================================\n",
      "Total params: 3,265\n",
      "Trainable params: 3,265\n",
      "Non-trainable params: 0\n",
      "_________________________________________________________________\n"
     ]
    }
   ],
   "source": [
    "# summary of the model\n",
    "model.summary()"
   ]
  },
  {
   "cell_type": "code",
   "execution_count": 353,
   "metadata": {},
   "outputs": [],
   "source": [
    "# compilation of model\n",
    "\n",
    "model.compile(loss='mean_squared_error' ,optimizer='adam')"
   ]
  },
  {
   "cell_type": "code",
   "execution_count": 354,
   "metadata": {},
   "outputs": [
    {
     "name": "stdout",
     "output_type": "stream",
     "text": [
      "Epoch 1/200\n",
      "14/14 [==============================] - 2s 18ms/step - loss: 17.5714 - val_loss: 6.0859\n",
      "Epoch 2/200\n",
      "14/14 [==============================] - 0s 5ms/step - loss: 5.1723 - val_loss: 2.4700\n",
      "Epoch 3/200\n",
      "14/14 [==============================] - 0s 10ms/step - loss: 3.6653 - val_loss: 1.5382\n",
      "Epoch 4/200\n",
      "14/14 [==============================] - 0s 15ms/step - loss: 2.8717 - val_loss: 1.5252\n",
      "Epoch 5/200\n",
      "14/14 [==============================] - 0s 10ms/step - loss: 2.5025 - val_loss: 1.2968\n",
      "Epoch 6/200\n",
      "14/14 [==============================] - 0s 5ms/step - loss: 2.5691 - val_loss: 1.2137\n",
      "Epoch 7/200\n",
      "14/14 [==============================] - 0s 6ms/step - loss: 2.4119 - val_loss: 1.1742\n",
      "Epoch 8/200\n",
      "14/14 [==============================] - 0s 5ms/step - loss: 2.2543 - val_loss: 1.1172\n",
      "Epoch 9/200\n",
      "14/14 [==============================] - 0s 12ms/step - loss: 1.9817 - val_loss: 1.0026\n",
      "Epoch 10/200\n",
      "14/14 [==============================] - 0s 8ms/step - loss: 1.9626 - val_loss: 0.8872\n",
      "Epoch 11/200\n",
      "14/14 [==============================] - 0s 12ms/step - loss: 1.8773 - val_loss: 0.9488\n",
      "Epoch 12/200\n",
      "14/14 [==============================] - 0s 11ms/step - loss: 1.8669 - val_loss: 0.7388\n",
      "Epoch 13/200\n",
      "14/14 [==============================] - 0s 12ms/step - loss: 1.9571 - val_loss: 0.8798\n",
      "Epoch 14/200\n",
      "14/14 [==============================] - 0s 5ms/step - loss: 1.9222 - val_loss: 0.6436\n",
      "Epoch 15/200\n",
      "14/14 [==============================] - 0s 6ms/step - loss: 1.8015 - val_loss: 0.7629\n",
      "Epoch 16/200\n",
      "14/14 [==============================] - 0s 5ms/step - loss: 1.6427 - val_loss: 0.7854\n",
      "Epoch 17/200\n",
      "14/14 [==============================] - 0s 5ms/step - loss: 1.9094 - val_loss: 0.6662\n",
      "Epoch 18/200\n",
      "14/14 [==============================] - 0s 5ms/step - loss: 1.7215 - val_loss: 0.6268\n",
      "Epoch 19/200\n",
      "14/14 [==============================] - 0s 5ms/step - loss: 1.7592 - val_loss: 0.5951\n",
      "Epoch 20/200\n",
      "14/14 [==============================] - 0s 5ms/step - loss: 1.6951 - val_loss: 0.5488\n",
      "Epoch 21/200\n",
      "14/14 [==============================] - 0s 14ms/step - loss: 1.6405 - val_loss: 0.5823\n",
      "Epoch 22/200\n",
      "14/14 [==============================] - 0s 14ms/step - loss: 1.5245 - val_loss: 0.4589\n",
      "Epoch 23/200\n",
      "14/14 [==============================] - 0s 8ms/step - loss: 1.5753 - val_loss: 0.3768\n",
      "Epoch 24/200\n",
      "14/14 [==============================] - 0s 6ms/step - loss: 1.4638 - val_loss: 0.5989\n",
      "Epoch 25/200\n",
      "14/14 [==============================] - 0s 5ms/step - loss: 1.5380 - val_loss: 0.4482\n",
      "Epoch 26/200\n",
      "14/14 [==============================] - 0s 5ms/step - loss: 1.5901 - val_loss: 0.5602\n",
      "Epoch 27/200\n",
      "14/14 [==============================] - 0s 6ms/step - loss: 1.4906 - val_loss: 0.3673\n",
      "Epoch 28/200\n",
      "14/14 [==============================] - 0s 5ms/step - loss: 1.5076 - val_loss: 0.5065\n",
      "Epoch 29/200\n",
      "14/14 [==============================] - 0s 5ms/step - loss: 1.4733 - val_loss: 0.5151\n",
      "Epoch 30/200\n",
      "14/14 [==============================] - 0s 14ms/step - loss: 1.2421 - val_loss: 0.3918\n",
      "Epoch 31/200\n",
      "14/14 [==============================] - 0s 11ms/step - loss: 1.3201 - val_loss: 0.4062\n",
      "Epoch 32/200\n",
      "14/14 [==============================] - 0s 6ms/step - loss: 1.4280 - val_loss: 0.3724\n",
      "Epoch 33/200\n",
      "14/14 [==============================] - 0s 7ms/step - loss: 1.4242 - val_loss: 0.4355\n",
      "Epoch 34/200\n",
      "14/14 [==============================] - 0s 6ms/step - loss: 1.3765 - val_loss: 0.3457\n",
      "Epoch 35/200\n",
      "14/14 [==============================] - 0s 5ms/step - loss: 1.3002 - val_loss: 0.3499\n",
      "Epoch 36/200\n",
      "14/14 [==============================] - 0s 5ms/step - loss: 1.3152 - val_loss: 0.3188\n",
      "Epoch 37/200\n",
      "14/14 [==============================] - 0s 5ms/step - loss: 1.3985 - val_loss: 0.4821\n",
      "Epoch 38/200\n",
      "14/14 [==============================] - 0s 5ms/step - loss: 1.5548 - val_loss: 0.3147\n",
      "Epoch 39/200\n",
      "14/14 [==============================] - 0s 5ms/step - loss: 1.4176 - val_loss: 0.5281\n",
      "Epoch 40/200\n",
      "14/14 [==============================] - 0s 11ms/step - loss: 1.5130 - val_loss: 0.2846\n",
      "Epoch 41/200\n",
      "14/14 [==============================] - 0s 15ms/step - loss: 1.2381 - val_loss: 0.4208\n",
      "Epoch 42/200\n",
      "14/14 [==============================] - 0s 9ms/step - loss: 1.4609 - val_loss: 0.4022\n",
      "Epoch 43/200\n",
      "14/14 [==============================] - 0s 5ms/step - loss: 1.2723 - val_loss: 0.3341\n",
      "Epoch 44/200\n",
      "14/14 [==============================] - 0s 6ms/step - loss: 1.4361 - val_loss: 0.4356\n",
      "Epoch 45/200\n",
      "14/14 [==============================] - 0s 5ms/step - loss: 1.2265 - val_loss: 0.3042\n",
      "Epoch 46/200\n",
      "14/14 [==============================] - 0s 5ms/step - loss: 1.2641 - val_loss: 0.3975\n",
      "Epoch 47/200\n",
      "14/14 [==============================] - 0s 5ms/step - loss: 1.2362 - val_loss: 0.2736\n",
      "Epoch 48/200\n",
      "14/14 [==============================] - 0s 5ms/step - loss: 1.3581 - val_loss: 0.3639\n",
      "Epoch 49/200\n",
      "14/14 [==============================] - 0s 5ms/step - loss: 1.3488 - val_loss: 0.2838\n",
      "Epoch 50/200\n",
      "14/14 [==============================] - 0s 14ms/step - loss: 1.3214 - val_loss: 0.2951\n",
      "Epoch 51/200\n",
      "14/14 [==============================] - 0s 11ms/step - loss: 1.2727 - val_loss: 0.3324\n",
      "Epoch 52/200\n",
      "14/14 [==============================] - 0s 8ms/step - loss: 1.1751 - val_loss: 0.2613\n",
      "Epoch 53/200\n",
      "14/14 [==============================] - 0s 5ms/step - loss: 1.2553 - val_loss: 0.3540\n",
      "Epoch 54/200\n",
      "14/14 [==============================] - 0s 6ms/step - loss: 1.3179 - val_loss: 0.2539\n",
      "Epoch 55/200\n",
      "14/14 [==============================] - 0s 5ms/step - loss: 1.2795 - val_loss: 0.4263\n",
      "Epoch 56/200\n",
      "14/14 [==============================] - 0s 5ms/step - loss: 1.1865 - val_loss: 0.2971\n",
      "Epoch 57/200\n",
      "14/14 [==============================] - 0s 5ms/step - loss: 1.3323 - val_loss: 0.3262\n",
      "Epoch 58/200\n",
      "14/14 [==============================] - 0s 5ms/step - loss: 1.2469 - val_loss: 0.3419\n",
      "Epoch 59/200\n",
      "14/14 [==============================] - 0s 5ms/step - loss: 1.2842 - val_loss: 0.2107\n",
      "Epoch 60/200\n",
      "14/14 [==============================] - 0s 14ms/step - loss: 1.2097 - val_loss: 0.5120\n",
      "Epoch 61/200\n",
      "14/14 [==============================] - 0s 13ms/step - loss: 1.2068 - val_loss: 0.1839\n",
      "Epoch 62/200\n",
      "14/14 [==============================] - 0s 8ms/step - loss: 1.0019 - val_loss: 0.3509\n",
      "Epoch 63/200\n",
      "14/14 [==============================] - 0s 6ms/step - loss: 1.2004 - val_loss: 0.3356\n",
      "Epoch 64/200\n",
      "14/14 [==============================] - 0s 5ms/step - loss: 1.1668 - val_loss: 0.3178\n",
      "Epoch 65/200\n",
      "14/14 [==============================] - 0s 5ms/step - loss: 1.1177 - val_loss: 0.3860\n",
      "Epoch 66/200\n",
      "14/14 [==============================] - 0s 5ms/step - loss: 1.2466 - val_loss: 0.2527\n",
      "Epoch 67/200\n",
      "14/14 [==============================] - 0s 5ms/step - loss: 1.2426 - val_loss: 0.3336\n",
      "Epoch 68/200\n",
      "14/14 [==============================] - 0s 5ms/step - loss: 1.1011 - val_loss: 0.3305\n",
      "Epoch 69/200\n",
      "14/14 [==============================] - 0s 5ms/step - loss: 1.2686 - val_loss: 0.2791\n",
      "Epoch 70/200\n",
      "14/14 [==============================] - 0s 15ms/step - loss: 1.2138 - val_loss: 0.2346\n",
      "Epoch 71/200\n",
      "14/14 [==============================] - 0s 9ms/step - loss: 1.3405 - val_loss: 0.3468\n",
      "Epoch 72/200\n",
      "14/14 [==============================] - 0s 12ms/step - loss: 1.2016 - val_loss: 0.1723\n",
      "Epoch 73/200\n",
      "14/14 [==============================] - 0s 9ms/step - loss: 0.9716 - val_loss: 0.3543\n",
      "Epoch 74/200\n",
      "14/14 [==============================] - 0s 5ms/step - loss: 1.2246 - val_loss: 0.2850\n",
      "Epoch 75/200\n",
      "14/14 [==============================] - 0s 5ms/step - loss: 0.9880 - val_loss: 0.2647\n",
      "Epoch 76/200\n",
      "14/14 [==============================] - 0s 5ms/step - loss: 0.9576 - val_loss: 0.2330\n",
      "Epoch 77/200\n",
      "14/14 [==============================] - 0s 5ms/step - loss: 1.1390 - val_loss: 0.3046\n",
      "Epoch 78/200\n",
      "14/14 [==============================] - 0s 13ms/step - loss: 1.2486 - val_loss: 0.2298\n",
      "Epoch 79/200\n",
      "14/14 [==============================] - 0s 14ms/step - loss: 1.3909 - val_loss: 0.2514\n",
      "Epoch 80/200\n",
      "14/14 [==============================] - 0s 8ms/step - loss: 1.0289 - val_loss: 0.2867\n",
      "Epoch 81/200\n",
      "14/14 [==============================] - 0s 5ms/step - loss: 1.2130 - val_loss: 0.3055\n",
      "Epoch 82/200\n",
      "14/14 [==============================] - 0s 5ms/step - loss: 1.0099 - val_loss: 0.3131\n",
      "Epoch 83/200\n",
      "14/14 [==============================] - 0s 5ms/step - loss: 0.9669 - val_loss: 0.2397\n",
      "Epoch 84/200\n",
      "14/14 [==============================] - 0s 5ms/step - loss: 1.0900 - val_loss: 0.2817\n",
      "Epoch 85/200\n",
      "14/14 [==============================] - 0s 5ms/step - loss: 1.1680 - val_loss: 0.2770\n",
      "Epoch 86/200\n",
      "14/14 [==============================] - 0s 5ms/step - loss: 1.1175 - val_loss: 0.2208\n",
      "Epoch 87/200\n",
      "14/14 [==============================] - 0s 5ms/step - loss: 1.0473 - val_loss: 0.2549\n",
      "Epoch 88/200\n",
      "14/14 [==============================] - 0s 14ms/step - loss: 1.1040 - val_loss: 0.3054\n",
      "Epoch 89/200\n",
      "14/14 [==============================] - 0s 10ms/step - loss: 0.9927 - val_loss: 0.2343\n",
      "Epoch 90/200\n",
      "14/14 [==============================] - 0s 8ms/step - loss: 0.9756 - val_loss: 0.2710\n",
      "Epoch 91/200\n",
      "14/14 [==============================] - 0s 5ms/step - loss: 1.0247 - val_loss: 0.3318\n",
      "Epoch 92/200\n",
      "14/14 [==============================] - 0s 6ms/step - loss: 0.9671 - val_loss: 0.2431\n",
      "Epoch 93/200\n",
      "14/14 [==============================] - 0s 5ms/step - loss: 0.9656 - val_loss: 0.2250\n",
      "Epoch 94/200\n",
      "14/14 [==============================] - 0s 5ms/step - loss: 1.0287 - val_loss: 0.2812\n",
      "Epoch 95/200\n",
      "14/14 [==============================] - 0s 5ms/step - loss: 0.9799 - val_loss: 0.2783\n",
      "Epoch 96/200\n",
      "14/14 [==============================] - 0s 15ms/step - loss: 0.8690 - val_loss: 0.2684\n",
      "Epoch 97/200\n",
      "14/14 [==============================] - 0s 16ms/step - loss: 0.9526 - val_loss: 0.1763\n",
      "Epoch 98/200\n",
      "14/14 [==============================] - 0s 11ms/step - loss: 0.9195 - val_loss: 0.3429\n",
      "Epoch 99/200\n",
      "14/14 [==============================] - 0s 5ms/step - loss: 0.9375 - val_loss: 0.2041\n",
      "Epoch 100/200\n",
      "14/14 [==============================] - 0s 6ms/step - loss: 1.0127 - val_loss: 0.2989\n",
      "Epoch 101/200\n",
      "14/14 [==============================] - 0s 5ms/step - loss: 0.9449 - val_loss: 0.2899\n",
      "Epoch 102/200\n",
      "14/14 [==============================] - 0s 5ms/step - loss: 0.9673 - val_loss: 0.2088\n",
      "Epoch 103/200\n",
      "14/14 [==============================] - 0s 5ms/step - loss: 0.9012 - val_loss: 0.3139\n",
      "Epoch 104/200\n",
      "14/14 [==============================] - 0s 5ms/step - loss: 0.9340 - val_loss: 0.2580\n",
      "Epoch 105/200\n",
      "14/14 [==============================] - 0s 5ms/step - loss: 0.9140 - val_loss: 0.1699\n",
      "Epoch 106/200\n",
      "14/14 [==============================] - 0s 17ms/step - loss: 0.8873 - val_loss: 0.3291\n",
      "Epoch 107/200\n",
      "14/14 [==============================] - 0s 8ms/step - loss: 0.9426 - val_loss: 0.1898\n",
      "Epoch 108/200\n",
      "14/14 [==============================] - 0s 8ms/step - loss: 0.9077 - val_loss: 0.2590\n",
      "Epoch 109/200\n",
      "14/14 [==============================] - 0s 5ms/step - loss: 1.0528 - val_loss: 0.1765\n",
      "Epoch 110/200\n",
      "14/14 [==============================] - 0s 5ms/step - loss: 0.8230 - val_loss: 0.2800\n",
      "Epoch 111/200\n",
      "14/14 [==============================] - 0s 5ms/step - loss: 0.8722 - val_loss: 0.2052\n",
      "Epoch 112/200\n",
      "14/14 [==============================] - 0s 5ms/step - loss: 0.8837 - val_loss: 0.2327\n",
      "Epoch 113/200\n",
      "14/14 [==============================] - 0s 5ms/step - loss: 0.8296 - val_loss: 0.2522\n",
      "Epoch 114/200\n",
      "14/14 [==============================] - 0s 5ms/step - loss: 0.8865 - val_loss: 0.2579\n",
      "Epoch 115/200\n",
      "14/14 [==============================] - 0s 5ms/step - loss: 1.0909 - val_loss: 0.2003\n",
      "Epoch 116/200\n",
      "14/14 [==============================] - 0s 14ms/step - loss: 0.7557 - val_loss: 0.2592\n",
      "Epoch 117/200\n",
      "14/14 [==============================] - 0s 16ms/step - loss: 0.9196 - val_loss: 0.1932\n",
      "Epoch 118/200\n",
      "14/14 [==============================] - 0s 15ms/step - loss: 1.0416 - val_loss: 0.2810\n",
      "Epoch 119/200\n",
      "14/14 [==============================] - 0s 5ms/step - loss: 0.9490 - val_loss: 0.1656\n",
      "Epoch 120/200\n",
      "14/14 [==============================] - 0s 5ms/step - loss: 0.9128 - val_loss: 0.2473\n",
      "Epoch 121/200\n",
      "14/14 [==============================] - 0s 5ms/step - loss: 0.8445 - val_loss: 0.3133\n",
      "Epoch 122/200\n",
      "14/14 [==============================] - 0s 5ms/step - loss: 0.7270 - val_loss: 0.1915\n",
      "Epoch 123/200\n",
      "14/14 [==============================] - 0s 5ms/step - loss: 0.7217 - val_loss: 0.2815\n",
      "Epoch 124/200\n",
      "14/14 [==============================] - 0s 13ms/step - loss: 0.9311 - val_loss: 0.2778\n",
      "Epoch 125/200\n",
      "14/14 [==============================] - 0s 11ms/step - loss: 0.9161 - val_loss: 0.2351\n",
      "Epoch 126/200\n",
      "14/14 [==============================] - 0s 7ms/step - loss: 0.9393 - val_loss: 0.1598\n",
      "Epoch 127/200\n",
      "14/14 [==============================] - 0s 5ms/step - loss: 0.7436 - val_loss: 0.1601\n",
      "Epoch 128/200\n",
      "14/14 [==============================] - 0s 6ms/step - loss: 0.8211 - val_loss: 0.2162\n",
      "Epoch 129/200\n",
      "14/14 [==============================] - 0s 5ms/step - loss: 0.7407 - val_loss: 0.1968\n",
      "Epoch 130/200\n",
      "14/14 [==============================] - 0s 5ms/step - loss: 0.6664 - val_loss: 0.1837\n",
      "Epoch 131/200\n",
      "14/14 [==============================] - 0s 5ms/step - loss: 0.6942 - val_loss: 0.2260\n",
      "Epoch 132/200\n",
      "14/14 [==============================] - 0s 5ms/step - loss: 0.7469 - val_loss: 0.3493\n",
      "Epoch 133/200\n",
      "14/14 [==============================] - 0s 5ms/step - loss: 0.7035 - val_loss: 0.1268\n",
      "Epoch 134/200\n",
      "14/14 [==============================] - 0s 10ms/step - loss: 0.8098 - val_loss: 0.2624\n",
      "Epoch 135/200\n",
      "14/14 [==============================] - 0s 15ms/step - loss: 0.7399 - val_loss: 0.1837\n",
      "Epoch 136/200\n",
      "14/14 [==============================] - 0s 10ms/step - loss: 0.7418 - val_loss: 0.2522\n",
      "Epoch 137/200\n",
      "14/14 [==============================] - 0s 5ms/step - loss: 0.7275 - val_loss: 0.1548\n",
      "Epoch 138/200\n",
      "14/14 [==============================] - 0s 6ms/step - loss: 0.7526 - val_loss: 0.3131\n",
      "Epoch 139/200\n",
      "14/14 [==============================] - 0s 5ms/step - loss: 0.6121 - val_loss: 0.1449\n",
      "Epoch 140/200\n",
      "14/14 [==============================] - 0s 12ms/step - loss: 0.7850 - val_loss: 0.2935\n",
      "Epoch 141/200\n",
      "14/14 [==============================] - 0s 6ms/step - loss: 0.7140 - val_loss: 0.1603\n",
      "Epoch 142/200\n",
      "14/14 [==============================] - 0s 6ms/step - loss: 0.6685 - val_loss: 0.2292\n",
      "Epoch 143/200\n",
      "14/14 [==============================] - 0s 15ms/step - loss: 0.6900 - val_loss: 0.1697\n",
      "Epoch 144/200\n",
      "14/14 [==============================] - 0s 8ms/step - loss: 0.6986 - val_loss: 0.2928\n",
      "Epoch 145/200\n",
      "14/14 [==============================] - 0s 8ms/step - loss: 0.7100 - val_loss: 0.1115\n",
      "Epoch 146/200\n",
      "14/14 [==============================] - 0s 5ms/step - loss: 0.6584 - val_loss: 0.2533\n",
      "Epoch 147/200\n",
      "14/14 [==============================] - 0s 6ms/step - loss: 0.7562 - val_loss: 0.2402\n",
      "Epoch 148/200\n",
      "14/14 [==============================] - 0s 5ms/step - loss: 0.6718 - val_loss: 0.1950\n",
      "Epoch 149/200\n",
      "14/14 [==============================] - 0s 5ms/step - loss: 0.6248 - val_loss: 0.2275\n",
      "Epoch 150/200\n",
      "14/14 [==============================] - 0s 5ms/step - loss: 0.6417 - val_loss: 0.2124\n",
      "Epoch 151/200\n",
      "14/14 [==============================] - 0s 5ms/step - loss: 0.6581 - val_loss: 0.1966\n",
      "Epoch 152/200\n",
      "14/14 [==============================] - 0s 5ms/step - loss: 0.5997 - val_loss: 0.2028\n",
      "Epoch 153/200\n",
      "14/14 [==============================] - 0s 14ms/step - loss: 0.7290 - val_loss: 0.1575\n",
      "Epoch 154/200\n",
      "14/14 [==============================] - 0s 13ms/step - loss: 0.6687 - val_loss: 0.2524\n",
      "Epoch 155/200\n",
      "14/14 [==============================] - 0s 8ms/step - loss: 0.6876 - val_loss: 0.1856\n",
      "Epoch 156/200\n",
      "14/14 [==============================] - 0s 6ms/step - loss: 0.5972 - val_loss: 0.1629\n",
      "Epoch 157/200\n",
      "14/14 [==============================] - 0s 5ms/step - loss: 0.6486 - val_loss: 0.2098\n",
      "Epoch 158/200\n",
      "14/14 [==============================] - 0s 5ms/step - loss: 0.6702 - val_loss: 0.2102\n",
      "Epoch 159/200\n",
      "14/14 [==============================] - 0s 5ms/step - loss: 0.7309 - val_loss: 0.1726\n",
      "Epoch 160/200\n",
      "14/14 [==============================] - 0s 5ms/step - loss: 0.5524 - val_loss: 0.2569\n",
      "Epoch 161/200\n",
      "14/14 [==============================] - 0s 5ms/step - loss: 0.6415 - val_loss: 0.1677\n",
      "Epoch 162/200\n",
      "14/14 [==============================] - 0s 5ms/step - loss: 0.6052 - val_loss: 0.1724\n",
      "Epoch 163/200\n",
      "14/14 [==============================] - 0s 16ms/step - loss: 0.6278 - val_loss: 0.1977\n",
      "Epoch 164/200\n",
      "14/14 [==============================] - 0s 14ms/step - loss: 0.6774 - val_loss: 0.1932\n",
      "Epoch 165/200\n",
      "14/14 [==============================] - 0s 11ms/step - loss: 0.5834 - val_loss: 0.1459\n",
      "Epoch 166/200\n",
      "14/14 [==============================] - 0s 5ms/step - loss: 0.5661 - val_loss: 0.1785\n",
      "Epoch 167/200\n",
      "14/14 [==============================] - 0s 5ms/step - loss: 0.5385 - val_loss: 0.2475\n",
      "Epoch 168/200\n",
      "14/14 [==============================] - 0s 5ms/step - loss: 0.4841 - val_loss: 0.1495\n",
      "Epoch 169/200\n",
      "14/14 [==============================] - 0s 5ms/step - loss: 0.5157 - val_loss: 0.1939\n",
      "Epoch 170/200\n",
      "14/14 [==============================] - 0s 5ms/step - loss: 0.5058 - val_loss: 0.1716\n",
      "Epoch 171/200\n",
      "14/14 [==============================] - 0s 8ms/step - loss: 0.5090 - val_loss: 0.1616\n",
      "Epoch 172/200\n",
      "14/14 [==============================] - 0s 18ms/step - loss: 0.5436 - val_loss: 0.1550\n",
      "Epoch 173/200\n",
      "14/14 [==============================] - 0s 16ms/step - loss: 0.4610 - val_loss: 0.2300\n",
      "Epoch 174/200\n",
      "14/14 [==============================] - 0s 15ms/step - loss: 0.4982 - val_loss: 0.1137\n",
      "Epoch 175/200\n",
      "14/14 [==============================] - 0s 14ms/step - loss: 0.4836 - val_loss: 0.2335\n",
      "Epoch 176/200\n",
      "14/14 [==============================] - 0s 16ms/step - loss: 0.4737 - val_loss: 0.1485\n",
      "Epoch 177/200\n",
      "14/14 [==============================] - 0s 14ms/step - loss: 0.4563 - val_loss: 0.2005\n",
      "Epoch 178/200\n",
      "14/14 [==============================] - 0s 14ms/step - loss: 0.4258 - val_loss: 0.1544\n",
      "Epoch 179/200\n",
      "14/14 [==============================] - 0s 15ms/step - loss: 0.4243 - val_loss: 0.2274\n",
      "Epoch 180/200\n",
      "14/14 [==============================] - 0s 14ms/step - loss: 0.4370 - val_loss: 0.1493\n",
      "Epoch 181/200\n",
      "14/14 [==============================] - 0s 18ms/step - loss: 0.4497 - val_loss: 0.1745\n",
      "Epoch 182/200\n",
      "14/14 [==============================] - 0s 16ms/step - loss: 0.4346 - val_loss: 0.1480\n",
      "Epoch 183/200\n",
      "14/14 [==============================] - 0s 13ms/step - loss: 0.4497 - val_loss: 0.1076\n",
      "Epoch 184/200\n",
      "14/14 [==============================] - 0s 11ms/step - loss: 0.5141 - val_loss: 0.2108\n",
      "Epoch 185/200\n",
      "14/14 [==============================] - 0s 5ms/step - loss: 0.4636 - val_loss: 0.1312\n",
      "Epoch 186/200\n",
      "14/14 [==============================] - 0s 5ms/step - loss: 0.4352 - val_loss: 0.1693\n",
      "Epoch 187/200\n",
      "14/14 [==============================] - 0s 5ms/step - loss: 0.4401 - val_loss: 0.1248\n",
      "Epoch 188/200\n",
      "14/14 [==============================] - 0s 13ms/step - loss: 0.4235 - val_loss: 0.1291\n",
      "Epoch 189/200\n",
      "14/14 [==============================] - 0s 11ms/step - loss: 0.4337 - val_loss: 0.1593\n",
      "Epoch 190/200\n",
      "14/14 [==============================] - 0s 6ms/step - loss: 0.4044 - val_loss: 0.1499\n",
      "Epoch 191/200\n",
      "14/14 [==============================] - 0s 7ms/step - loss: 0.4187 - val_loss: 0.1544\n",
      "Epoch 192/200\n",
      "14/14 [==============================] - 0s 6ms/step - loss: 0.3717 - val_loss: 0.1993\n",
      "Epoch 193/200\n",
      "14/14 [==============================] - 0s 5ms/step - loss: 0.4435 - val_loss: 0.1691\n",
      "Epoch 194/200\n",
      "14/14 [==============================] - 0s 5ms/step - loss: 0.4374 - val_loss: 0.1572\n",
      "Epoch 195/200\n",
      "14/14 [==============================] - 0s 5ms/step - loss: 0.4479 - val_loss: 0.1567\n",
      "Epoch 196/200\n",
      "14/14 [==============================] - 0s 5ms/step - loss: 0.4025 - val_loss: 0.1151\n",
      "Epoch 197/200\n",
      "14/14 [==============================] - 0s 5ms/step - loss: 0.4000 - val_loss: 0.1846\n",
      "Epoch 198/200\n",
      "14/14 [==============================] - 0s 12ms/step - loss: 0.3575 - val_loss: 0.1350\n",
      "Epoch 199/200\n",
      "14/14 [==============================] - 0s 15ms/step - loss: 0.4141 - val_loss: 0.1620\n",
      "Epoch 200/200\n",
      "14/14 [==============================] - 0s 8ms/step - loss: 0.3768 - val_loss: 0.1197\n"
     ]
    }
   ],
   "source": [
    "history= model.fit(X_train,y_train,validation_split = 0.2, epochs = 200)"
   ]
  },
  {
   "cell_type": "code",
   "execution_count": 355,
   "metadata": {},
   "outputs": [],
   "source": [
    "def plot_loss(history):\n",
    "    plt.plot(history.history['loss'], label='loss')\n",
    "    plt.plot(history.history['val_loss'], label='val_loss')\n",
    "    plt.xlabel('Epoch')\n",
    "    plt.ylabel('Error [charges]')\n",
    "    plt.legend()\n",
    "    plt.grid(True)"
   ]
  },
  {
   "cell_type": "code",
   "execution_count": 356,
   "metadata": {},
   "outputs": [
    {
     "data": {
      "image/png": "[encoded data removed]",
      "text/plain": [
       "<Figure size 640x480 with 1 Axes>"
      ]
     },
     "metadata": {},
     "output_type": "display_data"
    }
   ],
   "source": [
    "plot_loss(history)"
   ]
  },
  {
   "cell_type": "code",
   "execution_count": 357,
   "metadata": {},
   "outputs": [
    {
     "name": "stdout",
     "output_type": "stream",
     "text": [
      "5/5 [==============================] - 0s 2ms/step\n"
     ]
    },
    {
     "data": {
      "text/plain": [
       "array([2., 4., 2., 4., 2., 2., 2., 2., 4., 2., 2., 4., 3., 4., 4., 2., 2.,\n",
       "       2., 2., 2., 4., 2., 4., 4., 3., 3., 2., 2., 4., 4., 3., 2., 3., 2.,\n",
       "       2., 2., 4., 2., 2., 2., 2., 2., 2., 3., 4., 2., 2., 2., 2., 3., 2.,\n",
       "       2., 2., 2., 2., 2., 4., 2., 2., 2., 2., 4., 4., 2., 3., 4., 4., 2.,\n",
       "       2., 2., 4., 4., 2., 2., 2., 4., 2., 2., 3., 4., 2., 2., 2., 2., 3.,\n",
       "       4., 3., 4., 2., 2., 3., 3., 2., 2., 2., 4., 2., 2., 2., 4., 2., 4.,\n",
       "       2., 2., 4., 2., 4., 2., 2., 3., 2., 2., 4., 2., 2., 2., 2., 2., 4.,\n",
       "       4., 4., 3., 4., 2., 2., 4., 2., 2., 4., 2., 4., 2., 2., 2., 2., 2.,\n",
       "       4.], dtype=float32)"
      ]
     },
     "execution_count": 357,
     "metadata": {},
     "output_type": "execute_result"
    }
   ],
   "source": [
    "predictions=model.predict(X_test).flatten()\n",
    "predictions= predictions.round()\n",
    "predictions"
   ]
  },
  {
   "cell_type": "code",
   "execution_count": 358,
   "metadata": {},
   "outputs": [],
   "source": [
    "# comparing the predicted values of the model to the actual values\n",
    "test_values=pd.DataFrame(data={'Actual_values':y_test,'Predictions':predictions})"
   ]
  },
  {
   "cell_type": "code",
   "execution_count": 359,
   "metadata": {},
   "outputs": [
    {
     "data": {
      "text/html": [
       "<div>\n",
       "<style scoped>\n",
       "    .dataframe tbody tr th:only-of-type {\n",
       "        vertical-align: middle;\n",
       "    }\n",
       "\n",
       "    .dataframe tbody tr th {\n",
       "        vertical-align: top;\n",
       "    }\n",
       "\n",
       "    .dataframe thead th {\n",
       "        text-align: right;\n",
       "    }\n",
       "</style>\n",
       "<table border=\"1\" class=\"dataframe\">\n",
       "  <thead>\n",
       "    <tr style=\"text-align: right;\">\n",
       "      <th></th>\n",
       "      <th>Actual_values</th>\n",
       "      <th>Predictions</th>\n",
       "    </tr>\n",
       "  </thead>\n",
       "  <tbody>\n",
       "    <tr>\n",
       "      <th>0</th>\n",
       "      <td>2</td>\n",
       "      <td>2.0</td>\n",
       "    </tr>\n",
       "    <tr>\n",
       "      <th>1</th>\n",
       "      <td>4</td>\n",
       "      <td>4.0</td>\n",
       "    </tr>\n",
       "    <tr>\n",
       "      <th>2</th>\n",
       "      <td>2</td>\n",
       "      <td>2.0</td>\n",
       "    </tr>\n",
       "    <tr>\n",
       "      <th>3</th>\n",
       "      <td>4</td>\n",
       "      <td>4.0</td>\n",
       "    </tr>\n",
       "    <tr>\n",
       "      <th>4</th>\n",
       "      <td>2</td>\n",
       "      <td>2.0</td>\n",
       "    </tr>\n",
       "    <tr>\n",
       "      <th>...</th>\n",
       "      <td>...</td>\n",
       "      <td>...</td>\n",
       "    </tr>\n",
       "    <tr>\n",
       "      <th>132</th>\n",
       "      <td>2</td>\n",
       "      <td>2.0</td>\n",
       "    </tr>\n",
       "    <tr>\n",
       "      <th>133</th>\n",
       "      <td>2</td>\n",
       "      <td>2.0</td>\n",
       "    </tr>\n",
       "    <tr>\n",
       "      <th>134</th>\n",
       "      <td>2</td>\n",
       "      <td>2.0</td>\n",
       "    </tr>\n",
       "    <tr>\n",
       "      <th>135</th>\n",
       "      <td>2</td>\n",
       "      <td>2.0</td>\n",
       "    </tr>\n",
       "    <tr>\n",
       "      <th>136</th>\n",
       "      <td>4</td>\n",
       "      <td>4.0</td>\n",
       "    </tr>\n",
       "  </tbody>\n",
       "</table>\n",
       "<p>137 rows × 2 columns</p>\n",
       "</div>"
      ],
      "text/plain": [
       "     Actual_values  Predictions\n",
       "0                2          2.0\n",
       "1                4          4.0\n",
       "2                2          2.0\n",
       "3                4          4.0\n",
       "4                2          2.0\n",
       "..             ...          ...\n",
       "132              2          2.0\n",
       "133              2          2.0\n",
       "134              2          2.0\n",
       "135              2          2.0\n",
       "136              4          4.0\n",
       "\n",
       "[137 rows x 2 columns]"
      ]
     },
     "execution_count": 359,
     "metadata": {},
     "output_type": "execute_result"
    }
   ],
   "source": [
    "test_values"
   ]
  },
  {
   "cell_type": "code",
   "execution_count": 360,
   "metadata": {},
   "outputs": [
    {
     "data": {
      "text/plain": [
       "[<matplotlib.lines.Line2D at 0x1ffbc11c410>,\n",
       " <matplotlib.lines.Line2D at 0x1ffbc11edd0>]"
      ]
     },
     "execution_count": 360,
     "metadata": {},
     "output_type": "execute_result"
    },
    {
     "data": {
      "image/png": "[encoded data removed]",
      "text/plain": [
       "<Figure size 640x480 with 1 Axes>"
      ]
     },
     "metadata": {},
     "output_type": "display_data"
    }
   ],
   "source": [
    "plt.plot(test_values)"
   ]
  }
 ],
 "metadata": {
  "kernelspec": {
   "display_name": "Python 3",
   "language": "python",
   "name": "python3"
  },
  "language_info": {
   "codemirror_mode": {
    "name": "ipython",
    "version": 3
   },
   "file_extension": ".py",
   "mimetype": "text/x-python",
   "name": "python",
   "nbconvert_exporter": "python",
   "pygments_lexer": "ipython3",
   "version": "3.11.2"
  },
  "orig_nbformat": 4
 },
 "nbformat": 4,
 "nbformat_minor": 2
}
